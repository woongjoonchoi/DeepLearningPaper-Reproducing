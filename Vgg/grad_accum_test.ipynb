{
  "cells": [
    {
      "cell_type": "markdown",
      "metadata": {
        "colab_type": "text",
        "id": "view-in-github"
      },
      "source": [
        "<a href=\"https://colab.research.google.com/github/woongjoonchoi/DeepLearningPaper-Reproducing/blob/master/Vgg/grad_accum_test.ipynb\" target=\"_parent\"><img src=\"https://colab.research.google.com/assets/colab-badge.svg\" alt=\"Open In Colab\"/></a>"
      ]
    },
    {
      "cell_type": "code",
      "execution_count": 1,
      "metadata": {
        "id": "tsWQEa8yahD9"
      },
      "outputs": [],
      "source": [
        "import torch\n",
        "import torch.nn as nn"
      ]
    },
    {
      "cell_type": "code",
      "execution_count": 2,
      "metadata": {
        "id": "a39epghzbZ_w"
      },
      "outputs": [],
      "source": [
        "# loss = nn.MSELoss()\n",
        "# input = torch.randn(3, 5, requires_grad=True)\n",
        "# target = torch.randn(3, 5)\n",
        "# output = loss(input, target)\n",
        "# output.backward()"
      ]
    },
    {
      "cell_type": "code",
      "execution_count": 28,
      "metadata": {
        "id": "aLath8OncDv_"
      },
      "outputs": [],
      "source": [
        "line = torch.nn.Linear(1,1)"
      ]
    },
    {
      "cell_type": "code",
      "execution_count": 45,
      "metadata": {
        "id": "qHhfknkVfo4R"
      },
      "outputs": [],
      "source": [
        "c = torch.tensor([1],dtype=torch.float32).reshape(1,1)"
      ]
    },
    {
      "cell_type": "code",
      "execution_count": 46,
      "metadata": {
        "id": "wJwqyklYf5Lh"
      },
      "outputs": [],
      "source": [
        "d = torch.tensor([0],dtype =torch.float32)"
      ]
    },
    {
      "cell_type": "code",
      "execution_count": 47,
      "metadata": {
        "id": "YBs9qtRgd-jf"
      },
      "outputs": [],
      "source": [
        "line.weight = torch.nn.Parameter(c)\n",
        "line.bias =torch.nn.Parameter(d)"
      ]
    },
    {
      "cell_type": "code",
      "execution_count": 48,
      "metadata": {
        "colab": {
          "base_uri": "https://localhost:8080/"
        },
        "id": "imLY2PRrf2vZ",
        "outputId": "77974152-7b87-42ed-c4e8-b832f5fb0a9a"
      },
      "outputs": [
        {
          "data": {
            "text/plain": [
              "torch.Size([1, 1])"
            ]
          },
          "execution_count": 48,
          "metadata": {},
          "output_type": "execute_result"
        }
      ],
      "source": [
        "# line.weight.shape"
      ]
    },
    {
      "cell_type": "markdown",
      "metadata": {
        "id": "oo-FPJ5MhZJf"
      },
      "source": [
        "## accum grad"
      ]
    },
    {
      "cell_type": "code",
      "execution_count": 59,
      "metadata": {
        "id": "Me6ZN470cZhT"
      },
      "outputs": [],
      "source": [
        "variable = torch.tensor([1,2],dtype = torch.float32).reshape(2,1)\n",
        "target = torch.tensor([0,0],dtype = torch.float32).reshape(2,1)"
      ]
    },
    {
      "cell_type": "code",
      "execution_count": 60,
      "metadata": {
        "colab": {
          "base_uri": "https://localhost:8080/"
        },
        "id": "TSWi_VxJeBEi",
        "outputId": "9b69c4f0-1309-444e-ed4e-4052d061b561"
      },
      "outputs": [
        {
          "data": {
            "text/plain": [
              "torch.Size([2, 1])"
            ]
          },
          "execution_count": 60,
          "metadata": {},
          "output_type": "execute_result"
        }
      ],
      "source": [
        "variable.shape"
      ]
    },
    {
      "cell_type": "code",
      "execution_count": 77,
      "metadata": {
        "id": "ndQmjSF3dEMo"
      },
      "outputs": [],
      "source": [
        "criterion = nn.MSELoss()\n",
        "# output = loss()\n",
        "output = line(variable)\n",
        "# loss = criterion()"
      ]
    },
    {
      "cell_type": "code",
      "execution_count": 78,
      "metadata": {
        "id": "uv26QHvvedza"
      },
      "outputs": [],
      "source": [
        "loss= criterion(output,target) /2"
      ]
    },
    {
      "cell_type": "code",
      "execution_count": 79,
      "metadata": {
        "id": "mu177wR7bfJJ"
      },
      "outputs": [],
      "source": [
        "loss.backward()"
      ]
    },
    {
      "cell_type": "code",
      "execution_count": 80,
      "metadata": {
        "colab": {
          "base_uri": "https://localhost:8080/"
        },
        "id": "4KU5M9yTemQj",
        "outputId": "538976fd-538d-45c6-d337-874428e7aabd"
      },
      "outputs": [
        {
          "data": {
            "text/plain": [
              "tensor([[2.5000]])"
            ]
          },
          "execution_count": 80,
          "metadata": {},
          "output_type": "execute_result"
        }
      ],
      "source": [
        "line.weight.grad"
      ]
    },
    {
      "cell_type": "code",
      "execution_count": 81,
      "metadata": {
        "id": "_tk6-crDgiX7"
      },
      "outputs": [],
      "source": [
        "variable2 = torch.tensor([3,4],dtype = torch.float32).reshape(2,1)\n",
        "target2 = torch.tensor([0,0],dtype = torch.float32).reshape(2,1)"
      ]
    },
    {
      "cell_type": "code",
      "execution_count": 82,
      "metadata": {
        "id": "Rn27PE1VgqDc"
      },
      "outputs": [],
      "source": [
        "output = line(variable2)\n",
        "loss=criterion(output,target2) /2"
      ]
    },
    {
      "cell_type": "code",
      "execution_count": 83,
      "metadata": {
        "id": "4FiV_1MVgv2E"
      },
      "outputs": [],
      "source": [
        "loss.backward()"
      ]
    },
    {
      "cell_type": "code",
      "execution_count": 84,
      "metadata": {
        "colab": {
          "base_uri": "https://localhost:8080/"
        },
        "id": "yWwF61p0gziG",
        "outputId": "e4f6dd71-4770-4be8-ac6e-d486c173bfca"
      },
      "outputs": [
        {
          "data": {
            "text/plain": [
              "tensor([[15.]])"
            ]
          },
          "execution_count": 84,
          "metadata": {},
          "output_type": "execute_result"
        }
      ],
      "source": [
        "line.weight.grad"
      ]
    },
    {
      "cell_type": "code",
      "execution_count": 85,
      "metadata": {
        "id": "RK2KmixFh1mH"
      },
      "outputs": [],
      "source": [
        "line.zero_grad()"
      ]
    },
    {
      "cell_type": "markdown",
      "metadata": {
        "id": "fsIwjHZOiMNg"
      },
      "source": [
        "## full batch"
      ]
    },
    {
      "cell_type": "code",
      "execution_count": 86,
      "metadata": {
        "id": "nxg9uWlniLlQ"
      },
      "outputs": [],
      "source": [
        "variable3 = torch.tensor([1,2,3,4],dtype = torch.float32).reshape(4,1)\n",
        "target3 = torch.tensor([0,0,0,0],dtype = torch.float32).reshape(4,1)"
      ]
    },
    {
      "cell_type": "code",
      "execution_count": 87,
      "metadata": {
        "id": "GvqTZTg4iSzA"
      },
      "outputs": [],
      "source": [
        "output = line(variable3)\n",
        "loss=criterion(output,target3)"
      ]
    },
    {
      "cell_type": "code",
      "execution_count": 88,
      "metadata": {
        "id": "V0nVRkOliWGr"
      },
      "outputs": [],
      "source": [
        "loss.backward()"
      ]
    },
    {
      "cell_type": "code",
      "execution_count": 89,
      "metadata": {
        "colab": {
          "base_uri": "https://localhost:8080/"
        },
        "id": "L-6O7vwbiYQB",
        "outputId": "35590100-984a-4692-864c-baf8484638b5"
      },
      "outputs": [
        {
          "data": {
            "text/plain": [
              "tensor([[15.]])"
            ]
          },
          "execution_count": 89,
          "metadata": {},
          "output_type": "execute_result"
        }
      ],
      "source": [
        "line.weight.grad"
      ]
    }
  ],
  "metadata": {
    "colab": {
      "authorship_tag": "ABX9TyN+0OMiLeoKvNVK3ahru0aD",
      "include_colab_link": true,
      "provenance": []
    },
    "kernelspec": {
      "display_name": "Python 3",
      "name": "python3"
    },
    "language_info": {
      "name": "python",
      "version": "3.10.14"
    }
  },
  "nbformat": 4,
  "nbformat_minor": 0
}
