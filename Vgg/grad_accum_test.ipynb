{
  "nbformat": 4,
  "nbformat_minor": 0,
  "metadata": {
    "colab": {
      "provenance": [],
      "authorship_tag": "ABX9TyN+0OMiLeoKvNVK3ahru0aD",
      "include_colab_link": true
    },
    "kernelspec": {
      "name": "python3",
      "display_name": "Python 3"
    },
    "language_info": {
      "name": "python"
    }
  },
  "cells": [
    {
      "cell_type": "markdown",
      "metadata": {
        "id": "view-in-github",
        "colab_type": "text"
      },
      "source": [
        "<a href=\"https://colab.research.google.com/github/woongjoonchoi/DeepLearningPaper-Reproducing/blob/master/Vgg/grad_accum_test.ipynb\" target=\"_parent\"><img src=\"https://colab.research.google.com/assets/colab-badge.svg\" alt=\"Open In Colab\"/></a>"
      ]
    },
    {
      "cell_type": "code",
      "execution_count": 1,
      "metadata": {
        "id": "tsWQEa8yahD9"
      },
      "outputs": [],
      "source": [
        "import torch\n",
        "import torch.nn as nn"
      ]
    },
    {
      "cell_type": "code",
      "source": [
        "# loss = nn.MSELoss()\n",
        "# input = torch.randn(3, 5, requires_grad=True)\n",
        "# target = torch.randn(3, 5)\n",
        "# output = loss(input, target)\n",
        "# output.backward()"
      ],
      "metadata": {
        "id": "a39epghzbZ_w"
      },
      "execution_count": 2,
      "outputs": []
    },
    {
      "cell_type": "code",
      "source": [
        "line = torch.nn.Linear(1,1)"
      ],
      "metadata": {
        "id": "aLath8OncDv_"
      },
      "execution_count": 28,
      "outputs": []
    },
    {
      "cell_type": "code",
      "source": [
        "c = torch.tensor([1],dtype=torch.float32).reshape(1,1)"
      ],
      "metadata": {
        "id": "qHhfknkVfo4R"
      },
      "execution_count": 45,
      "outputs": []
    },
    {
      "cell_type": "code",
      "source": [
        "d = torch.tensor([0],dtype =torch.float32)"
      ],
      "metadata": {
        "id": "wJwqyklYf5Lh"
      },
      "execution_count": 46,
      "outputs": []
    },
    {
      "cell_type": "code",
      "source": [
        "line.weight = torch.nn.Parameter(c)\n",
        "line.bias =torch.nn.Parameter(d)"
      ],
      "metadata": {
        "id": "YBs9qtRgd-jf"
      },
      "execution_count": 47,
      "outputs": []
    },
    {
      "cell_type": "code",
      "source": [
        "# line.weight.shape"
      ],
      "metadata": {
        "colab": {
          "base_uri": "https://localhost:8080/"
        },
        "id": "imLY2PRrf2vZ",
        "outputId": "77974152-7b87-42ed-c4e8-b832f5fb0a9a"
      },
      "execution_count": 48,
      "outputs": [
        {
          "output_type": "execute_result",
          "data": {
            "text/plain": [
              "torch.Size([1, 1])"
            ]
          },
          "metadata": {},
          "execution_count": 48
        }
      ]
    },
    {
      "cell_type": "markdown",
      "source": [
        "## accum grad"
      ],
      "metadata": {
        "id": "oo-FPJ5MhZJf"
      }
    },
    {
      "cell_type": "code",
      "source": [
        "variable = torch.tensor([1,2],dtype = torch.float32).reshape(2,1)\n",
        "target = torch.tensor([0,0],dtype = torch.float32).reshape(2,1)"
      ],
      "metadata": {
        "id": "Me6ZN470cZhT"
      },
      "execution_count": 59,
      "outputs": []
    },
    {
      "cell_type": "code",
      "source": [
        "variable.shape"
      ],
      "metadata": {
        "colab": {
          "base_uri": "https://localhost:8080/"
        },
        "id": "TSWi_VxJeBEi",
        "outputId": "9b69c4f0-1309-444e-ed4e-4052d061b561"
      },
      "execution_count": 60,
      "outputs": [
        {
          "output_type": "execute_result",
          "data": {
            "text/plain": [
              "torch.Size([2, 1])"
            ]
          },
          "metadata": {},
          "execution_count": 60
        }
      ]
    },
    {
      "cell_type": "code",
      "source": [
        "criterion = nn.MSELoss()\n",
        "# output = loss()\n",
        "output = line(variable)\n",
        "# loss = criterion()"
      ],
      "metadata": {
        "id": "ndQmjSF3dEMo"
      },
      "execution_count": 77,
      "outputs": []
    },
    {
      "cell_type": "code",
      "source": [
        "loss= criterion(output,target) /2"
      ],
      "metadata": {
        "id": "uv26QHvvedza"
      },
      "execution_count": 78,
      "outputs": []
    },
    {
      "cell_type": "code",
      "source": [
        "loss.backward()"
      ],
      "metadata": {
        "id": "mu177wR7bfJJ"
      },
      "execution_count": 79,
      "outputs": []
    },
    {
      "cell_type": "code",
      "source": [
        "line.weight.grad"
      ],
      "metadata": {
        "colab": {
          "base_uri": "https://localhost:8080/"
        },
        "id": "4KU5M9yTemQj",
        "outputId": "538976fd-538d-45c6-d337-874428e7aabd"
      },
      "execution_count": 80,
      "outputs": [
        {
          "output_type": "execute_result",
          "data": {
            "text/plain": [
              "tensor([[2.5000]])"
            ]
          },
          "metadata": {},
          "execution_count": 80
        }
      ]
    },
    {
      "cell_type": "code",
      "source": [
        "variable2 = torch.tensor([3,4],dtype = torch.float32).reshape(2,1)\n",
        "target2 = torch.tensor([0,0],dtype = torch.float32).reshape(2,1)"
      ],
      "metadata": {
        "id": "_tk6-crDgiX7"
      },
      "execution_count": 81,
      "outputs": []
    },
    {
      "cell_type": "code",
      "source": [
        "output = line(variable2)\n",
        "loss=criterion(output,target2) /2"
      ],
      "metadata": {
        "id": "Rn27PE1VgqDc"
      },
      "execution_count": 82,
      "outputs": []
    },
    {
      "cell_type": "code",
      "source": [
        "loss.backward()"
      ],
      "metadata": {
        "id": "4FiV_1MVgv2E"
      },
      "execution_count": 83,
      "outputs": []
    },
    {
      "cell_type": "code",
      "source": [
        "line.weight.grad"
      ],
      "metadata": {
        "colab": {
          "base_uri": "https://localhost:8080/"
        },
        "id": "yWwF61p0gziG",
        "outputId": "e4f6dd71-4770-4be8-ac6e-d486c173bfca"
      },
      "execution_count": 84,
      "outputs": [
        {
          "output_type": "execute_result",
          "data": {
            "text/plain": [
              "tensor([[15.]])"
            ]
          },
          "metadata": {},
          "execution_count": 84
        }
      ]
    },
    {
      "cell_type": "code",
      "source": [
        "line.zero_grad()"
      ],
      "metadata": {
        "id": "RK2KmixFh1mH"
      },
      "execution_count": 85,
      "outputs": []
    },
    {
      "cell_type": "markdown",
      "source": [
        "## full batch"
      ],
      "metadata": {
        "id": "fsIwjHZOiMNg"
      }
    },
    {
      "cell_type": "code",
      "source": [
        "variable3 = torch.tensor([1,2,3,4],dtype = torch.float32).reshape(4,1)\n",
        "target3 = torch.tensor([0,0,0,0],dtype = torch.float32).reshape(4,1)"
      ],
      "metadata": {
        "id": "nxg9uWlniLlQ"
      },
      "execution_count": 86,
      "outputs": []
    },
    {
      "cell_type": "code",
      "source": [
        "output = line(variable3)\n",
        "loss=criterion(output,target3)"
      ],
      "metadata": {
        "id": "GvqTZTg4iSzA"
      },
      "execution_count": 87,
      "outputs": []
    },
    {
      "cell_type": "code",
      "source": [
        "loss.backward()"
      ],
      "metadata": {
        "id": "V0nVRkOliWGr"
      },
      "execution_count": 88,
      "outputs": []
    },
    {
      "cell_type": "code",
      "source": [
        "line.weight.grad"
      ],
      "metadata": {
        "colab": {
          "base_uri": "https://localhost:8080/"
        },
        "id": "L-6O7vwbiYQB",
        "outputId": "35590100-984a-4692-864c-baf8484638b5"
      },
      "execution_count": 89,
      "outputs": [
        {
          "output_type": "execute_result",
          "data": {
            "text/plain": [
              "tensor([[15.]])"
            ]
          },
          "metadata": {},
          "execution_count": 89
        }
      ]
    }
  ]
}