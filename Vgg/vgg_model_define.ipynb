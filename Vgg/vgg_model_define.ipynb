{
  "nbformat": 4,
  "nbformat_minor": 0,
  "metadata": {
    "colab": {
      "provenance": [],
      "authorship_tag": "ABX9TyMS0FkBJx/5bjjcx23Qo51U",
      "include_colab_link": true
    },
    "kernelspec": {
      "name": "python3",
      "display_name": "Python 3"
    },
    "language_info": {
      "name": "python"
    }
  },
  "cells": [
    {
      "cell_type": "markdown",
      "metadata": {
        "id": "view-in-github",
        "colab_type": "text"
      },
      "source": [
        "<a href=\"https://colab.research.google.com/github/woongjoonchoi/DeepLearningPaper-Reproducing/blob/master/Vgg/vgg_model_define.ipynb\" target=\"_parent\"><img src=\"https://colab.research.google.com/assets/colab-badge.svg\" alt=\"Open In Colab\"/></a>"
      ]
    },
    {
      "cell_type": "code",
      "source": [
        "import albumentations as A\n",
        "import numpy as np\n",
        "\n",
        "import matplotlib.pyplot as plt\n",
        "from torchvision.datasets import Caltech256 ,Caltech101 ,CIFAR100\n",
        "import os\n",
        "from PIL import Image\n",
        "from urllib.request import urlretrieve\n",
        "import requests\n",
        "import tarfile"
      ],
      "metadata": {
        "id": "Y8uDL3O9Nip2"
      },
      "execution_count": null,
      "outputs": []
    },
    {
      "cell_type": "code",
      "source": [
        "from torch import nn"
      ],
      "metadata": {
        "id": "Sm3Wp8hN1zYw"
      },
      "execution_count": null,
      "outputs": []
    },
    {
      "cell_type": "code",
      "source": [
        "import torch"
      ],
      "metadata": {
        "id": "0AnFhMRnBmuy"
      },
      "execution_count": null,
      "outputs": []
    },
    {
      "cell_type": "markdown",
      "source": [],
      "metadata": {
        "id": "5v1OM5551qSy"
      }
    },
    {
      "cell_type": "code",
      "source": [
        "# With square kernels and equal stride\n",
        "c = nn.Conv2d(16, 33, 3, stride=2)\n",
        "# non-square kernels and unequal stride and with padding\n",
        "m = nn.Conv2d(16, 33, (3, 5), stride=(2, 1), padding=(4, 2))\n",
        "d = nn.Conv2d(3,44,4)\n",
        "a=[]\n",
        "kk =[c,m]\n",
        "dd = [d]\n",
        "a += kk\n",
        "a += dd\n",
        "# li = nn.Sequential(*a)\n",
        "\n",
        "li = nn.ModuleList(a)\n",
        "\n",
        "# non-square kernels and unequal stride and with padding and dilation\n",
        "# m = nn.Conv2d(16, 33, (3, 5), stride=(2, 1), padding=(4, 2), dilation=(3, 1))\n",
        "input = torch.ones(20, 16, 50, 100)\n",
        "output = m(input)\n",
        "\n"
      ],
      "metadata": {
        "id": "w_BAiLQ3Bkz6"
      },
      "execution_count": null,
      "outputs": []
    },
    {
      "cell_type": "code",
      "source": [
        "a"
      ],
      "metadata": {
        "colab": {
          "base_uri": "https://localhost:8080/"
        },
        "id": "r3Z_ft7DvYm2",
        "outputId": "81ea1707-cfb0-4139-fed8-82932430c76a"
      },
      "execution_count": null,
      "outputs": [
        {
          "output_type": "execute_result",
          "data": {
            "text/plain": [
              "[Conv2d(16, 33, kernel_size=(3, 3), stride=(2, 2)),\n",
              " Conv2d(16, 33, kernel_size=(3, 5), stride=(2, 1), padding=(4, 2)),\n",
              " Conv2d(3, 44, kernel_size=(4, 4), stride=(1, 1))]"
            ]
          },
          "metadata": {},
          "execution_count": 13
        }
      ]
    },
    {
      "cell_type": "code",
      "source": [
        "li"
      ],
      "metadata": {
        "colab": {
          "base_uri": "https://localhost:8080/"
        },
        "id": "j1UsThKfu0z0",
        "outputId": "f0799506-7d2f-4ef0-a078-ca378e1577ad"
      },
      "execution_count": null,
      "outputs": [
        {
          "output_type": "execute_result",
          "data": {
            "text/plain": [
              "ModuleList(\n",
              "  (0): Conv2d(16, 33, kernel_size=(3, 3), stride=(2, 2))\n",
              "  (1): Conv2d(16, 33, kernel_size=(3, 5), stride=(2, 1), padding=(4, 2))\n",
              "  (2): Conv2d(3, 44, kernel_size=(4, 4), stride=(1, 1))\n",
              ")"
            ]
          },
          "metadata": {},
          "execution_count": 18
        }
      ]
    },
    {
      "cell_type": "code",
      "source": [
        "output.shape"
      ],
      "metadata": {
        "colab": {
          "base_uri": "https://localhost:8080/"
        },
        "id": "djunLuqRBose",
        "outputId": "c9810059-e43c-4dd3-9ee1-a640b8e3cb7e"
      },
      "execution_count": null,
      "outputs": [
        {
          "output_type": "execute_result",
          "data": {
            "text/plain": [
              "torch.Size([20, 33, 28, 100])"
            ]
          },
          "metadata": {},
          "execution_count": 16
        }
      ]
    },
    {
      "cell_type": "code",
      "source": [
        "Config_channels = {\n",
        "\"A\" : [64,\"M\" , 128,  \"M\"  , 256,256,\"M\" ,512,512 ,\"M\" , 512,512,\"M\"] ,\n",
        "\"A_lrn\" : [64,\"LRN\",\"M\" , 128,  \"M\"  , 256,256,\"M\" ,512,512 ,\"M\" , 512,512,\"M\"] ,\n",
        "\"B\" :[64,64,\"M\" , 128,128,  \"M\"  , 256,256,\"M\" ,512,512 ,\"M\" , 512,512,\"M\"]  ,\n",
        "\"C\" : [64,64,\"M\" , 128,128,  \"M\"  , 256,256,256,\"M\" ,512,512 ,512,\"M\" , 512,512,512,\"M\"] ,\n",
        "\"D\" :[64,64,\"M\" , 128,128,  \"M\"  , 256,256,256,\"M\" ,512,512 ,512,\"M\" , 512,512,512,\"M\"] ,\n",
        "\"E\" :[64,64,\"M\" , 128,128,  \"M\"  , 256,256,256,256,\"M\" ,512,512 ,512,512,\"M\" , 512,512,512,512,\"M\"]         ,\n",
        "\n",
        "}"
      ],
      "metadata": {
        "id": "HZUTdQHU46GY"
      },
      "execution_count": null,
      "outputs": []
    },
    {
      "cell_type": "code",
      "source": [
        "Config_kernel = {\n",
        "\"A\" : [3,2 , 3,  2  , 3,3,2 ,3,3 ,2 , 3,3,2] ,\n",
        "\"A_lrn\" : [3,2,2 , 3,  2  , 3,3,2 ,3,3 ,2 , 3,3,2] ,\n",
        "\"B\" :[3,3,2 , 3,3,  2  , 3,3,2 ,3,3 ,2 , 3,3,2]  ,\n",
        "\"C\" : [3,3,2 , 3,3,  2  , 3,3,1,2 ,3,3 ,1,2 , 3,3,1,2] ,\n",
        "\"D\" :[3,3,2 , 3,3,  2  , 3,3,3,2 ,3,3 ,3,2 , 3,3,3,2] ,\n",
        "\"E\" :[3,3,2 , 3,3,  2  , 3,3,3,3,2 ,3,3 ,3,3,2 , 3,3,3,3,2]         ,\n",
        "\n",
        "}"
      ],
      "metadata": {
        "id": "hfv3t9rn6-5h"
      },
      "execution_count": null,
      "outputs": []
    },
    {
      "cell_type": "code",
      "source": [
        "def make_feature_extractor(cfg_c,cfg_k):\n",
        "    feature_extract = []\n",
        "    in_channels = 3\n",
        "    for out_channels , kernel in zip(cfg_c,cfg_k) :\n",
        "        if out_channels == \"M\" :\n",
        "            feature_extract += [nn.MaxPool2d(kernel,2) ]\n",
        "        else :\n",
        "            feature_extract+= [nn.Conv2d(in_channels,out_channels,kernel,stride = 1 , padding = 1) , nn.Relu()]\n",
        "        in_channels = out_channels\n",
        "    return nn.ModuleList(feature_extract)\n"
      ],
      "metadata": {
        "id": "AXEMstbW9xeL"
      },
      "execution_count": null,
      "outputs": []
    },
    {
      "cell_type": "code",
      "source": [
        "class Model_vgg(nn.module) :\n",
        "    def __init__(self,version , num_classes):\n",
        "        conv_5_out_w ,conv_5_out_h = 7,7\n",
        "        conv_5_out_dim =512\n",
        "        conv_1_by_1_1_outchannel = 4096\n",
        "        conv_1_by_1_2_outchannel = 4096\n",
        "        # conv_1_by_1_3_outchannel = num_classes\n",
        "        self.feature_extractor = make_feature_extractor(Config_channels[version] , Config_kernel[version])\n",
        "\n",
        "        self.output_layer = nn.Sequential(\n",
        "                             nn.Conv2d(conv_5_out_dim * conv_5_out_w *conv_5_out_h ,conv_1_by_1_1_outchannel ,1,padding = 1) ,\n",
        "                             nn.Relu(),\n",
        "                             nn.Dropout(),\n",
        "                             nn.Conv2d(conv_1_by_1_1_outchannel ,conv_1_by_1_2_outchannel,1,padding =1 ) ,\n",
        "                             nn.Relu(),\n",
        "                             nn.Dropout(),\n",
        "                             nn.Conv2d(conv_1_by_1_2_outchannel ,num_classes,1,padding =1 )\n",
        "                             )\n",
        "\n",
        "    def forward(self,x):\n",
        "        x = self.feature_extractor(x)\n",
        "        x = self.output_layer(x)\n",
        "\n",
        "\n",
        "    #     pass\n",
        "\n"
      ],
      "metadata": {
        "id": "f1g6u9FW1p2G"
      },
      "execution_count": null,
      "outputs": []
    }
  ]
}