{
  "nbformat": 4,
  "nbformat_minor": 0,
  "metadata": {
    "colab": {
      "provenance": [],
      "toc_visible": true,
      "authorship_tag": "ABX9TyPdNnuwbb0hyem7X7c3PrHc",
      "include_colab_link": true
    },
    "kernelspec": {
      "name": "python3",
      "display_name": "Python 3"
    },
    "language_info": {
      "name": "python"
    }
  },
  "cells": [
    {
      "cell_type": "markdown",
      "metadata": {
        "id": "view-in-github",
        "colab_type": "text"
      },
      "source": [
        "<a href=\"https://colab.research.google.com/github/woongjoonchoi/DeepLearningPaper-Reproducing/blob/master/Vgg/vgg_model_define.ipynb\" target=\"_parent\"><img src=\"https://colab.research.google.com/assets/colab-badge.svg\" alt=\"Open In Colab\"/></a>"
      ]
    },
    {
      "cell_type": "code",
      "source": [
        "import albumentations as A\n",
        "import numpy as np\n",
        "\n",
        "import matplotlib.pyplot as plt\n",
        "from torchvision.datasets import Caltech256 ,Caltech101 ,CIFAR100\n",
        "import os\n",
        "from PIL import Image\n",
        "from urllib.request import urlretrieve\n",
        "import requests\n",
        "import tarfile"
      ],
      "metadata": {
        "id": "Y8uDL3O9Nip2"
      },
      "execution_count": 1,
      "outputs": []
    },
    {
      "cell_type": "code",
      "source": [
        "from torch import nn"
      ],
      "metadata": {
        "id": "Sm3Wp8hN1zYw"
      },
      "execution_count": 2,
      "outputs": []
    },
    {
      "cell_type": "code",
      "source": [
        "import torch"
      ],
      "metadata": {
        "id": "0AnFhMRnBmuy"
      },
      "execution_count": 3,
      "outputs": []
    },
    {
      "cell_type": "markdown",
      "source": [
        "## VGG model define"
      ],
      "metadata": {
        "id": "gklkOFYaZzK5"
      }
    },
    {
      "cell_type": "code",
      "source": [
        "Config_channels = {\n",
        "\"A\" : [64,\"M\" , 128,  \"M\"  , 256,256,\"M\" ,512,512 ,\"M\" , 512,512,\"M\"] ,\n",
        "\"A_lrn\" : [64,\"LRN\",\"M\" , 128,  \"M\"  , 256,256,\"M\" ,512,512 ,\"M\" , 512,512,\"M\"] ,\n",
        "\"B\" :[64,64,\"M\" , 128,128,  \"M\"  , 256,256,\"M\" ,512,512 ,\"M\" , 512,512,\"M\"]  ,\n",
        "\"C\" : [64,64,\"M\" , 128,128,  \"M\"  , 256,256,256,\"M\" ,512,512 ,512,\"M\" , 512,512,512,\"M\"] ,\n",
        "\"D\" :[64,64,\"M\" , 128,128,  \"M\"  , 256,256,256,\"M\" ,512,512 ,512,\"M\" , 512,512,512,\"M\"] ,\n",
        "\"E\" :[64,64,\"M\" , 128,128,  \"M\"  , 256,256,256,256,\"M\" ,512,512 ,512,512,\"M\" , 512,512,512,512,\"M\"]         ,\n",
        "\n",
        "}"
      ],
      "metadata": {
        "id": "HZUTdQHU46GY"
      },
      "execution_count": 4,
      "outputs": []
    },
    {
      "cell_type": "code",
      "source": [
        "Config_kernel = {\n",
        "\"A\" : [3,2 , 3,  2  , 3,3,2 ,3,3 ,2 , 3,3,2] ,\n",
        "\"A_lrn\" : [3,2,2 , 3,  2  , 3,3,2 ,3,3 ,2 , 3,3,2] ,\n",
        "\"B\" :[3,3,2 , 3,3,  2  , 3,3,2 ,3,3 ,2 , 3,3,2]  ,\n",
        "\"C\" : [3,3,2 , 3,3,  2  , 3,3,1,2 ,3,3 ,1,2 , 3,3,1,2] ,\n",
        "\"D\" :[3,3,2 , 3,3,  2  , 3,3,3,2 ,3,3 ,3,2 , 3,3,3,2] ,\n",
        "\"E\" :[3,3,2 , 3,3,  2  , 3,3,3,3,2 ,3,3 ,3,3,2 , 3,3,3,3,2]         ,\n",
        "\n",
        "}"
      ],
      "metadata": {
        "id": "hfv3t9rn6-5h"
      },
      "execution_count": 5,
      "outputs": []
    },
    {
      "cell_type": "code",
      "source": [
        "def make_feature_extractor(cfg_c,cfg_k):\n",
        "    feature_extract = []\n",
        "    in_channels = 3\n",
        "    i = 1\n",
        "    for  out_channels , kernel in zip(cfg_c,cfg_k) :\n",
        "        # print(f\"{i} th layer {out_channels} processing\")\n",
        "        if out_channels == \"M\" :\n",
        "            feature_extract += [nn.MaxPool2d(kernel,2) ]\n",
        "        elif out_channels == \"LRN\":\n",
        "            feature_extract += [nn.LocalResponseNorm(5,k=2) , nn.ReLU()]\n",
        "        elif out_channels == 1:\n",
        "            feature_extract+= [nn.Conv2d(in_channels,out_channels,kernel,stride = 1) , nn.ReLU()]\n",
        "        else :\n",
        "            feature_extract+= [nn.Conv2d(in_channels,out_channels,kernel,stride = 1 , padding = 1) , nn.ReLU()]\n",
        "\n",
        "        if isinstance(out_channels,int) :   in_channels = out_channels\n",
        "        i+=1\n",
        "    return nn.Sequential(*feature_extract)\n"
      ],
      "metadata": {
        "id": "AXEMstbW9xeL"
      },
      "execution_count": 6,
      "outputs": []
    },
    {
      "cell_type": "code",
      "source": [
        "class Model_vgg(nn.Module) :\n",
        "    def __init__(self,version , num_classes):\n",
        "        conv_5_out_w ,conv_5_out_h = 7,7\n",
        "        conv_5_out_dim =512\n",
        "        conv_1_by_1_1_outchannel = 4096\n",
        "        conv_1_by_1_2_outchannel = 4096\n",
        "        # conv_1_by_1_3_outchannel = num_classes\n",
        "        super().__init__()\n",
        "        self.feature_extractor = make_feature_extractor(Config_channels[version] , Config_kernel[version])\n",
        "\n",
        "        self.output_layer = nn.Sequential(\n",
        "                             nn.Conv2d(conv_5_out_dim  ,conv_1_by_1_1_outchannel ,7) ,\n",
        "                             nn.ReLU(),\n",
        "                             nn.Dropout2d(),\n",
        "                             nn.Conv2d(conv_1_by_1_1_outchannel ,conv_1_by_1_2_outchannel,1 ) ,\n",
        "                             nn.ReLU(),\n",
        "                             nn.Dropout2d(),\n",
        "                             nn.Conv2d(conv_1_by_1_2_outchannel ,num_classes,1 )\n",
        "                             )\n",
        "\n",
        "        self.avgpool = nn.AdaptiveAvgPool2d((1,1))\n",
        "\n",
        "    def forward(self,x):\n",
        "        x = self.feature_extractor(x)\n",
        "        x = self.output_layer(x)\n",
        "        x= self.avgpool(x)\n",
        "        x= torch.flatten(x,start_dim = 1)\n",
        "        return x\n",
        "\n",
        "\n",
        "    #     pass\n",
        "\n"
      ],
      "metadata": {
        "id": "f1g6u9FW1p2G"
      },
      "execution_count": 7,
      "outputs": []
    },
    {
      "cell_type": "markdown",
      "source": [
        "## Unit Test"
      ],
      "metadata": {
        "id": "yVLmRFfARAgc"
      }
    },
    {
      "cell_type": "markdown",
      "source": [
        "### Model Parameter Unit Test"
      ],
      "metadata": {
        "id": "plcuwtnqRCOO"
      }
    },
    {
      "cell_type": "code",
      "source": [
        "model_version = [\"A\",\"A_lrn\" , \"B\",\"C\",\"D\",\"E\"]"
      ],
      "metadata": {
        "id": "TAKCU4I2bgIi"
      },
      "execution_count": 8,
      "outputs": []
    },
    {
      "cell_type": "code",
      "source": [
        "model_param_num  = [133,133,133,134,138,144]"
      ],
      "metadata": {
        "id": "A9MCs9f-b0v3"
      },
      "execution_count": 9,
      "outputs": []
    },
    {
      "cell_type": "code",
      "source": [
        "import math\n"
      ],
      "metadata": {
        "id": "EWff_es2bOdr"
      },
      "execution_count": 10,
      "outputs": []
    },
    {
      "cell_type": "code",
      "source": [
        "def parameter_num(model_parameters):\n",
        "    summed = sum([torch.numel(p) for p in model_parameters])\n",
        "    return summed"
      ],
      "metadata": {
        "id": "4nL8ne_4XaJz"
      },
      "execution_count": 11,
      "outputs": []
    },
    {
      "cell_type": "code",
      "source": [
        "for v ,number in zip(model_version ,model_param_num):\n",
        "    num_classes= 1000\n",
        "    model_test = Model_vgg(v,num_classes)\n",
        "    print(f\"{v} model processing\")\n",
        "    print(round(parameter_num(model_test.parameters()) / 1e+6))\n",
        "    assert(round(parameter_num(model_test.parameters()) / 1e+6) == number)"
      ],
      "metadata": {
        "colab": {
          "base_uri": "https://localhost:8080/"
        },
        "id": "fNdNPAFxREGh",
        "outputId": "f152adf6-dac7-4216-fca2-d67e7aa79244"
      },
      "execution_count": 12,
      "outputs": [
        {
          "output_type": "stream",
          "name": "stdout",
          "text": [
            "A model processing\n",
            "133\n",
            "A_lrn model processing\n",
            "133\n",
            "B model processing\n",
            "133\n",
            "C model processing\n",
            "134\n",
            "D model processing\n",
            "138\n",
            "E model processing\n",
            "144\n"
          ]
        }
      ]
    },
    {
      "cell_type": "markdown",
      "source": [
        "### Model outputshape test"
      ],
      "metadata": {
        "id": "YwxFrrfDeT_5"
      }
    },
    {
      "cell_type": "code",
      "source": [
        "model_version = [\"A\",\"A_lrn\" , \"B\",\"C\",\"D\",\"E\"]"
      ],
      "metadata": {
        "id": "BPFB-RcdmmII"
      },
      "execution_count": 13,
      "outputs": []
    },
    {
      "cell_type": "code",
      "source": [
        "random_shape =[(9,3,400,400)  ,  (1,3,400,400)  ,(1,3,224,224)  , (8,3,389,389)]"
      ],
      "metadata": {
        "id": "CRd_wf7uhNO0"
      },
      "execution_count": 14,
      "outputs": []
    },
    {
      "cell_type": "code",
      "source": [
        "for sp in random_shape:\n",
        "    for v in model_version:\n",
        "        batch_size = sp[0]\n",
        "        num_classes = 1000\n",
        "        model_test = Model_vgg(v , num_classes)\n",
        "        random_tensor = torch.rand(sp)\n",
        "        output   = model_test(random_tensor)\n",
        "        print(f'{v} model output shape :{output.shape}')\n",
        "        assert tuple(output.shape) == (batch_size,num_classes)"
      ],
      "metadata": {
        "colab": {
          "base_uri": "https://localhost:8080/"
        },
        "id": "meLqOBvEhbvF",
        "outputId": "eafdc703-8118-46a6-e4eb-e702f21ee034"
      },
      "execution_count": 15,
      "outputs": [
        {
          "output_type": "stream",
          "name": "stdout",
          "text": [
            "A model output shape :torch.Size([9, 1000])\n",
            "A_lrn model output shape :torch.Size([9, 1000])\n",
            "B model output shape :torch.Size([9, 1000])\n",
            "C model output shape :torch.Size([9, 1000])\n",
            "D model output shape :torch.Size([9, 1000])\n",
            "E model output shape :torch.Size([9, 1000])\n",
            "A model output shape :torch.Size([1, 1000])\n",
            "A_lrn model output shape :torch.Size([1, 1000])\n",
            "B model output shape :torch.Size([1, 1000])\n",
            "C model output shape :torch.Size([1, 1000])\n",
            "D model output shape :torch.Size([1, 1000])\n",
            "E model output shape :torch.Size([1, 1000])\n",
            "A model output shape :torch.Size([1, 1000])\n",
            "A_lrn model output shape :torch.Size([1, 1000])\n",
            "B model output shape :torch.Size([1, 1000])\n",
            "C model output shape :torch.Size([1, 1000])\n",
            "D model output shape :torch.Size([1, 1000])\n",
            "E model output shape :torch.Size([1, 1000])\n",
            "A model output shape :torch.Size([8, 1000])\n",
            "A_lrn model output shape :torch.Size([8, 1000])\n",
            "B model output shape :torch.Size([8, 1000])\n",
            "C model output shape :torch.Size([8, 1000])\n",
            "D model output shape :torch.Size([8, 1000])\n",
            "E model output shape :torch.Size([8, 1000])\n"
          ]
        }
      ]
    },
    {
      "cell_type": "code",
      "source": [
        "model_test = Model_vgg(\"A_lrn\" , num_classes)"
      ],
      "metadata": {
        "id": "uoi-sqTsqLQk"
      },
      "execution_count": 25,
      "outputs": []
    },
    {
      "cell_type": "code",
      "source": [
        "from torchsummary import summary"
      ],
      "metadata": {
        "id": "TkqI0g5uKae5"
      },
      "execution_count": 19,
      "outputs": []
    },
    {
      "cell_type": "markdown",
      "source": [
        "### weight initialize"
      ],
      "metadata": {
        "id": "Qt9ZdxHPPIcN"
      }
    },
    {
      "cell_type": "code",
      "source": [
        "@torch.no_grad()\n",
        "def initial(m):\n",
        "    if isinstance(m,nn.Conv2d):\n",
        "        print(m)\n",
        "        nn.init.xavier_uniform_(m.weight)\n",
        "        if m.bias is not None :\n",
        "            nn.init.zeros_(m.bias)"
      ],
      "metadata": {
        "id": "yvB0nmjzNrBk"
      },
      "execution_count": 46,
      "outputs": []
    },
    {
      "cell_type": "code",
      "source": [
        "model_test.apply(initial)"
      ],
      "metadata": {
        "colab": {
          "base_uri": "https://localhost:8080/"
        },
        "id": "oXh5n0XwOGlj",
        "outputId": "b6c3d820-70df-460c-b7c3-a36205460a17"
      },
      "execution_count": 47,
      "outputs": [
        {
          "output_type": "stream",
          "name": "stdout",
          "text": [
            "Conv2d(3, 64, kernel_size=(3, 3), stride=(1, 1), padding=(1, 1))\n",
            "Conv2d(64, 128, kernel_size=(3, 3), stride=(1, 1), padding=(1, 1))\n",
            "Conv2d(128, 256, kernel_size=(3, 3), stride=(1, 1), padding=(1, 1))\n",
            "Conv2d(256, 256, kernel_size=(3, 3), stride=(1, 1), padding=(1, 1))\n",
            "Conv2d(256, 512, kernel_size=(3, 3), stride=(1, 1), padding=(1, 1))\n",
            "Conv2d(512, 512, kernel_size=(3, 3), stride=(1, 1), padding=(1, 1))\n",
            "Conv2d(512, 512, kernel_size=(3, 3), stride=(1, 1), padding=(1, 1))\n",
            "Conv2d(512, 512, kernel_size=(3, 3), stride=(1, 1), padding=(1, 1))\n",
            "Conv2d(512, 4096, kernel_size=(7, 7), stride=(1, 1))\n",
            "Conv2d(4096, 4096, kernel_size=(1, 1), stride=(1, 1))\n",
            "Conv2d(4096, 1000, kernel_size=(1, 1), stride=(1, 1))\n"
          ]
        },
        {
          "output_type": "execute_result",
          "data": {
            "text/plain": [
              "Model_vgg(\n",
              "  (feature_extractor): Sequential(\n",
              "    (0): Conv2d(3, 64, kernel_size=(3, 3), stride=(1, 1), padding=(1, 1))\n",
              "    (1): ReLU()\n",
              "    (2): LocalResponseNorm(5, alpha=0.0001, beta=0.75, k=2)\n",
              "    (3): ReLU()\n",
              "    (4): MaxPool2d(kernel_size=2, stride=2, padding=0, dilation=1, ceil_mode=False)\n",
              "    (5): Conv2d(64, 128, kernel_size=(3, 3), stride=(1, 1), padding=(1, 1))\n",
              "    (6): ReLU()\n",
              "    (7): MaxPool2d(kernel_size=2, stride=2, padding=0, dilation=1, ceil_mode=False)\n",
              "    (8): Conv2d(128, 256, kernel_size=(3, 3), stride=(1, 1), padding=(1, 1))\n",
              "    (9): ReLU()\n",
              "    (10): Conv2d(256, 256, kernel_size=(3, 3), stride=(1, 1), padding=(1, 1))\n",
              "    (11): ReLU()\n",
              "    (12): MaxPool2d(kernel_size=2, stride=2, padding=0, dilation=1, ceil_mode=False)\n",
              "    (13): Conv2d(256, 512, kernel_size=(3, 3), stride=(1, 1), padding=(1, 1))\n",
              "    (14): ReLU()\n",
              "    (15): Conv2d(512, 512, kernel_size=(3, 3), stride=(1, 1), padding=(1, 1))\n",
              "    (16): ReLU()\n",
              "    (17): MaxPool2d(kernel_size=2, stride=2, padding=0, dilation=1, ceil_mode=False)\n",
              "    (18): Conv2d(512, 512, kernel_size=(3, 3), stride=(1, 1), padding=(1, 1))\n",
              "    (19): ReLU()\n",
              "    (20): Conv2d(512, 512, kernel_size=(3, 3), stride=(1, 1), padding=(1, 1))\n",
              "    (21): ReLU()\n",
              "    (22): MaxPool2d(kernel_size=2, stride=2, padding=0, dilation=1, ceil_mode=False)\n",
              "  )\n",
              "  (output_layer): Sequential(\n",
              "    (0): Conv2d(512, 4096, kernel_size=(7, 7), stride=(1, 1))\n",
              "    (1): ReLU()\n",
              "    (2): Dropout2d(p=0.5, inplace=False)\n",
              "    (3): Conv2d(4096, 4096, kernel_size=(1, 1), stride=(1, 1))\n",
              "    (4): ReLU()\n",
              "    (5): Dropout2d(p=0.5, inplace=False)\n",
              "    (6): Conv2d(4096, 1000, kernel_size=(1, 1), stride=(1, 1))\n",
              "  )\n",
              "  (avgpool): AdaptiveAvgPool2d(output_size=(1, 1))\n",
              ")"
            ]
          },
          "metadata": {},
          "execution_count": 47
        }
      ]
    },
    {
      "cell_type": "code",
      "source": [
        "for name,module in model_test.named_parameters() :\n",
        "    print(name)"
      ],
      "metadata": {
        "colab": {
          "base_uri": "https://localhost:8080/"
        },
        "id": "4OT7lDO7Mao4",
        "outputId": "89a38aab-b3d0-47f5-c7c0-784921e14a7b"
      },
      "execution_count": 40,
      "outputs": [
        {
          "output_type": "stream",
          "name": "stdout",
          "text": [
            "feature_extractor.0.weight\n",
            "feature_extractor.0.bias\n",
            "feature_extractor.5.weight\n",
            "feature_extractor.5.bias\n",
            "feature_extractor.8.weight\n",
            "feature_extractor.8.bias\n",
            "feature_extractor.10.weight\n",
            "feature_extractor.10.bias\n",
            "feature_extractor.13.weight\n",
            "feature_extractor.13.bias\n",
            "feature_extractor.15.weight\n",
            "feature_extractor.15.bias\n",
            "feature_extractor.18.weight\n",
            "feature_extractor.18.bias\n",
            "feature_extractor.20.weight\n",
            "feature_extractor.20.bias\n",
            "output_layer.0.weight\n",
            "output_layer.0.bias\n",
            "output_layer.3.weight\n",
            "output_layer.3.bias\n",
            "output_layer.6.weight\n",
            "output_layer.6.bias\n"
          ]
        }
      ]
    },
    {
      "cell_type": "markdown",
      "source": [
        "### model summarize\n"
      ],
      "metadata": {
        "id": "JByssJoxPM5o"
      }
    },
    {
      "cell_type": "code",
      "source": [
        "#\n",
        "# model_test.apply(torch.nn.init.xavier_uniform_)\n",
        "summary(model_test,(3,224,224),batch_size=512)"
      ],
      "metadata": {
        "colab": {
          "base_uri": "https://localhost:8080/"
        },
        "id": "Qo04OS-uHo1U",
        "outputId": "07a20f8e-5c12-482f-848a-428a84b18a7f"
      },
      "execution_count": 41,
      "outputs": [
        {
          "output_type": "stream",
          "name": "stdout",
          "text": [
            "----------------------------------------------------------------\n",
            "        Layer (type)               Output Shape         Param #\n",
            "================================================================\n",
            "            Conv2d-1        [512, 64, 224, 224]           1,792\n",
            "              ReLU-2        [512, 64, 224, 224]               0\n",
            " LocalResponseNorm-3        [512, 64, 224, 224]               0\n",
            "              ReLU-4        [512, 64, 224, 224]               0\n",
            "         MaxPool2d-5        [512, 64, 112, 112]               0\n",
            "            Conv2d-6       [512, 128, 112, 112]          73,856\n",
            "              ReLU-7       [512, 128, 112, 112]               0\n",
            "         MaxPool2d-8         [512, 128, 56, 56]               0\n",
            "            Conv2d-9         [512, 256, 56, 56]         295,168\n",
            "             ReLU-10         [512, 256, 56, 56]               0\n",
            "           Conv2d-11         [512, 256, 56, 56]         590,080\n",
            "             ReLU-12         [512, 256, 56, 56]               0\n",
            "        MaxPool2d-13         [512, 256, 28, 28]               0\n",
            "           Conv2d-14         [512, 512, 28, 28]       1,180,160\n",
            "             ReLU-15         [512, 512, 28, 28]               0\n",
            "           Conv2d-16         [512, 512, 28, 28]       2,359,808\n",
            "             ReLU-17         [512, 512, 28, 28]               0\n",
            "        MaxPool2d-18         [512, 512, 14, 14]               0\n",
            "           Conv2d-19         [512, 512, 14, 14]       2,359,808\n",
            "             ReLU-20         [512, 512, 14, 14]               0\n",
            "           Conv2d-21         [512, 512, 14, 14]       2,359,808\n",
            "             ReLU-22         [512, 512, 14, 14]               0\n",
            "        MaxPool2d-23           [512, 512, 7, 7]               0\n",
            "           Conv2d-24          [512, 4096, 1, 1]     102,764,544\n",
            "             ReLU-25          [512, 4096, 1, 1]               0\n",
            "        Dropout2d-26          [512, 4096, 1, 1]               0\n",
            "           Conv2d-27          [512, 4096, 1, 1]      16,781,312\n",
            "             ReLU-28          [512, 4096, 1, 1]               0\n",
            "        Dropout2d-29          [512, 4096, 1, 1]               0\n",
            "           Conv2d-30          [512, 1000, 1, 1]       4,097,000\n",
            "AdaptiveAvgPool2d-31          [512, 1000, 1, 1]               0\n",
            "================================================================\n",
            "Total params: 132,863,336\n",
            "Trainable params: 132,863,336\n",
            "Non-trainable params: 0\n",
            "----------------------------------------------------------------\n",
            "Input size (MB): 294.00\n",
            "Forward/backward pass size (MB): 89185.81\n",
            "Params size (MB): 506.83\n",
            "Estimated Total Size (MB): 89986.65\n",
            "----------------------------------------------------------------\n"
          ]
        }
      ]
    },
    {
      "cell_type": "code",
      "source": [
        "output = model_test(torch.rand(random_shape[1]))\n",
        "\n"
      ],
      "metadata": {
        "id": "o0uApBjLqNdp"
      },
      "execution_count": null,
      "outputs": []
    },
    {
      "cell_type": "code",
      "source": [
        "bb = nn.Softmax(output)"
      ],
      "metadata": {
        "id": "TZLyWG-arre0"
      },
      "execution_count": null,
      "outputs": []
    },
    {
      "cell_type": "code",
      "source": [
        "dir(bb)"
      ],
      "metadata": {
        "colab": {
          "base_uri": "https://localhost:8080/"
        },
        "id": "Ointu3d1uNll",
        "outputId": "e0ee7289-5d29-42ab-c20b-3b6e4081c85b"
      },
      "execution_count": null,
      "outputs": [
        {
          "output_type": "execute_result",
          "data": {
            "text/plain": [
              "['T_destination',\n",
              " '__annotations__',\n",
              " '__call__',\n",
              " '__class__',\n",
              " '__constants__',\n",
              " '__delattr__',\n",
              " '__dict__',\n",
              " '__dir__',\n",
              " '__doc__',\n",
              " '__eq__',\n",
              " '__format__',\n",
              " '__ge__',\n",
              " '__getattr__',\n",
              " '__getattribute__',\n",
              " '__getstate__',\n",
              " '__gt__',\n",
              " '__hash__',\n",
              " '__init__',\n",
              " '__init_subclass__',\n",
              " '__le__',\n",
              " '__lt__',\n",
              " '__module__',\n",
              " '__ne__',\n",
              " '__new__',\n",
              " '__reduce__',\n",
              " '__reduce_ex__',\n",
              " '__repr__',\n",
              " '__setattr__',\n",
              " '__setstate__',\n",
              " '__sizeof__',\n",
              " '__str__',\n",
              " '__subclasshook__',\n",
              " '__weakref__',\n",
              " '_apply',\n",
              " '_backward_hooks',\n",
              " '_backward_pre_hooks',\n",
              " '_buffers',\n",
              " '_call_impl',\n",
              " '_compiled_call_impl',\n",
              " '_forward_hooks',\n",
              " '_forward_hooks_always_called',\n",
              " '_forward_hooks_with_kwargs',\n",
              " '_forward_pre_hooks',\n",
              " '_forward_pre_hooks_with_kwargs',\n",
              " '_get_backward_hooks',\n",
              " '_get_backward_pre_hooks',\n",
              " '_get_name',\n",
              " '_is_full_backward_hook',\n",
              " '_load_from_state_dict',\n",
              " '_load_state_dict_post_hooks',\n",
              " '_load_state_dict_pre_hooks',\n",
              " '_maybe_warn_non_full_backward_hook',\n",
              " '_modules',\n",
              " '_named_members',\n",
              " '_non_persistent_buffers_set',\n",
              " '_parameters',\n",
              " '_register_load_state_dict_pre_hook',\n",
              " '_register_state_dict_hook',\n",
              " '_replicate_for_data_parallel',\n",
              " '_save_to_state_dict',\n",
              " '_slow_forward',\n",
              " '_state_dict_hooks',\n",
              " '_state_dict_pre_hooks',\n",
              " '_version',\n",
              " '_wrapped_call_impl',\n",
              " 'add_module',\n",
              " 'apply',\n",
              " 'bfloat16',\n",
              " 'buffers',\n",
              " 'call_super_init',\n",
              " 'children',\n",
              " 'compile',\n",
              " 'cpu',\n",
              " 'cuda',\n",
              " 'dim',\n",
              " 'double',\n",
              " 'dump_patches',\n",
              " 'eval',\n",
              " 'extra_repr',\n",
              " 'float',\n",
              " 'forward',\n",
              " 'get_buffer',\n",
              " 'get_extra_state',\n",
              " 'get_parameter',\n",
              " 'get_submodule',\n",
              " 'half',\n",
              " 'ipu',\n",
              " 'load_state_dict',\n",
              " 'modules',\n",
              " 'named_buffers',\n",
              " 'named_children',\n",
              " 'named_modules',\n",
              " 'named_parameters',\n",
              " 'parameters',\n",
              " 'register_backward_hook',\n",
              " 'register_buffer',\n",
              " 'register_forward_hook',\n",
              " 'register_forward_pre_hook',\n",
              " 'register_full_backward_hook',\n",
              " 'register_full_backward_pre_hook',\n",
              " 'register_load_state_dict_post_hook',\n",
              " 'register_module',\n",
              " 'register_parameter',\n",
              " 'register_state_dict_pre_hook',\n",
              " 'requires_grad_',\n",
              " 'set_extra_state',\n",
              " 'share_memory',\n",
              " 'state_dict',\n",
              " 'to',\n",
              " 'to_empty',\n",
              " 'train',\n",
              " 'training',\n",
              " 'type',\n",
              " 'xpu',\n",
              " 'zero_grad']"
            ]
          },
          "metadata": {},
          "execution_count": 76
        }
      ]
    },
    {
      "cell_type": "code",
      "source": [
        "target = torch.rand(1,1000)"
      ],
      "metadata": {
        "id": "9fmtrCLVrHh6"
      },
      "execution_count": null,
      "outputs": []
    },
    {
      "cell_type": "code",
      "source": [
        "loss = nn.CrossEntropyLoss()(bb,target)"
      ],
      "metadata": {
        "colab": {
          "base_uri": "https://localhost:8080/",
          "height": 369
        },
        "id": "1gUU-wNXqUIp",
        "outputId": "bf8de119-5a3e-4ee8-b5fd-701adeb43c86"
      },
      "execution_count": null,
      "outputs": [
        {
          "output_type": "error",
          "ename": "TypeError",
          "evalue": "cross_entropy_loss(): argument 'input' (position 1) must be Tensor, not Softmax",
          "traceback": [
            "\u001b[0;31m---------------------------------------------------------------------------\u001b[0m",
            "\u001b[0;31mTypeError\u001b[0m                                 Traceback (most recent call last)",
            "\u001b[0;32m<ipython-input-73-a0b109eb947e>\u001b[0m in \u001b[0;36m<cell line: 1>\u001b[0;34m()\u001b[0m\n\u001b[0;32m----> 1\u001b[0;31m \u001b[0mloss\u001b[0m \u001b[0;34m=\u001b[0m \u001b[0mnn\u001b[0m\u001b[0;34m.\u001b[0m\u001b[0mCrossEntropyLoss\u001b[0m\u001b[0;34m(\u001b[0m\u001b[0;34m)\u001b[0m\u001b[0;34m(\u001b[0m\u001b[0mbb\u001b[0m\u001b[0;34m,\u001b[0m\u001b[0mtarget\u001b[0m\u001b[0;34m)\u001b[0m\u001b[0;34m\u001b[0m\u001b[0;34m\u001b[0m\u001b[0m\n\u001b[0m",
            "\u001b[0;32m/usr/local/lib/python3.10/dist-packages/torch/nn/modules/module.py\u001b[0m in \u001b[0;36m_wrapped_call_impl\u001b[0;34m(self, *args, **kwargs)\u001b[0m\n\u001b[1;32m   1516\u001b[0m             \u001b[0;32mreturn\u001b[0m \u001b[0mself\u001b[0m\u001b[0;34m.\u001b[0m\u001b[0m_compiled_call_impl\u001b[0m\u001b[0;34m(\u001b[0m\u001b[0;34m*\u001b[0m\u001b[0margs\u001b[0m\u001b[0;34m,\u001b[0m \u001b[0;34m**\u001b[0m\u001b[0mkwargs\u001b[0m\u001b[0;34m)\u001b[0m  \u001b[0;31m# type: ignore[misc]\u001b[0m\u001b[0;34m\u001b[0m\u001b[0;34m\u001b[0m\u001b[0m\n\u001b[1;32m   1517\u001b[0m         \u001b[0;32melse\u001b[0m\u001b[0;34m:\u001b[0m\u001b[0;34m\u001b[0m\u001b[0;34m\u001b[0m\u001b[0m\n\u001b[0;32m-> 1518\u001b[0;31m             \u001b[0;32mreturn\u001b[0m \u001b[0mself\u001b[0m\u001b[0;34m.\u001b[0m\u001b[0m_call_impl\u001b[0m\u001b[0;34m(\u001b[0m\u001b[0;34m*\u001b[0m\u001b[0margs\u001b[0m\u001b[0;34m,\u001b[0m \u001b[0;34m**\u001b[0m\u001b[0mkwargs\u001b[0m\u001b[0;34m)\u001b[0m\u001b[0;34m\u001b[0m\u001b[0;34m\u001b[0m\u001b[0m\n\u001b[0m\u001b[1;32m   1519\u001b[0m \u001b[0;34m\u001b[0m\u001b[0m\n\u001b[1;32m   1520\u001b[0m     \u001b[0;32mdef\u001b[0m \u001b[0m_call_impl\u001b[0m\u001b[0;34m(\u001b[0m\u001b[0mself\u001b[0m\u001b[0;34m,\u001b[0m \u001b[0;34m*\u001b[0m\u001b[0margs\u001b[0m\u001b[0;34m,\u001b[0m \u001b[0;34m**\u001b[0m\u001b[0mkwargs\u001b[0m\u001b[0;34m)\u001b[0m\u001b[0;34m:\u001b[0m\u001b[0;34m\u001b[0m\u001b[0;34m\u001b[0m\u001b[0m\n",
            "\u001b[0;32m/usr/local/lib/python3.10/dist-packages/torch/nn/modules/module.py\u001b[0m in \u001b[0;36m_call_impl\u001b[0;34m(self, *args, **kwargs)\u001b[0m\n\u001b[1;32m   1525\u001b[0m                 \u001b[0;32mor\u001b[0m \u001b[0m_global_backward_pre_hooks\u001b[0m \u001b[0;32mor\u001b[0m \u001b[0m_global_backward_hooks\u001b[0m\u001b[0;34m\u001b[0m\u001b[0;34m\u001b[0m\u001b[0m\n\u001b[1;32m   1526\u001b[0m                 or _global_forward_hooks or _global_forward_pre_hooks):\n\u001b[0;32m-> 1527\u001b[0;31m             \u001b[0;32mreturn\u001b[0m \u001b[0mforward_call\u001b[0m\u001b[0;34m(\u001b[0m\u001b[0;34m*\u001b[0m\u001b[0margs\u001b[0m\u001b[0;34m,\u001b[0m \u001b[0;34m**\u001b[0m\u001b[0mkwargs\u001b[0m\u001b[0;34m)\u001b[0m\u001b[0;34m\u001b[0m\u001b[0;34m\u001b[0m\u001b[0m\n\u001b[0m\u001b[1;32m   1528\u001b[0m \u001b[0;34m\u001b[0m\u001b[0m\n\u001b[1;32m   1529\u001b[0m         \u001b[0;32mtry\u001b[0m\u001b[0;34m:\u001b[0m\u001b[0;34m\u001b[0m\u001b[0;34m\u001b[0m\u001b[0m\n",
            "\u001b[0;32m/usr/local/lib/python3.10/dist-packages/torch/nn/modules/loss.py\u001b[0m in \u001b[0;36mforward\u001b[0;34m(self, input, target)\u001b[0m\n\u001b[1;32m   1177\u001b[0m \u001b[0;34m\u001b[0m\u001b[0m\n\u001b[1;32m   1178\u001b[0m     \u001b[0;32mdef\u001b[0m \u001b[0mforward\u001b[0m\u001b[0;34m(\u001b[0m\u001b[0mself\u001b[0m\u001b[0;34m,\u001b[0m \u001b[0minput\u001b[0m\u001b[0;34m:\u001b[0m \u001b[0mTensor\u001b[0m\u001b[0;34m,\u001b[0m \u001b[0mtarget\u001b[0m\u001b[0;34m:\u001b[0m \u001b[0mTensor\u001b[0m\u001b[0;34m)\u001b[0m \u001b[0;34m->\u001b[0m \u001b[0mTensor\u001b[0m\u001b[0;34m:\u001b[0m\u001b[0;34m\u001b[0m\u001b[0;34m\u001b[0m\u001b[0m\n\u001b[0;32m-> 1179\u001b[0;31m         return F.cross_entropy(input, target, weight=self.weight,\n\u001b[0m\u001b[1;32m   1180\u001b[0m                                \u001b[0mignore_index\u001b[0m\u001b[0;34m=\u001b[0m\u001b[0mself\u001b[0m\u001b[0;34m.\u001b[0m\u001b[0mignore_index\u001b[0m\u001b[0;34m,\u001b[0m \u001b[0mreduction\u001b[0m\u001b[0;34m=\u001b[0m\u001b[0mself\u001b[0m\u001b[0;34m.\u001b[0m\u001b[0mreduction\u001b[0m\u001b[0;34m,\u001b[0m\u001b[0;34m\u001b[0m\u001b[0;34m\u001b[0m\u001b[0m\n\u001b[1;32m   1181\u001b[0m                                label_smoothing=self.label_smoothing)\n",
            "\u001b[0;32m/usr/local/lib/python3.10/dist-packages/torch/nn/functional.py\u001b[0m in \u001b[0;36mcross_entropy\u001b[0;34m(input, target, weight, size_average, ignore_index, reduce, reduction, label_smoothing)\u001b[0m\n\u001b[1;32m   3051\u001b[0m     \u001b[0;32mif\u001b[0m \u001b[0msize_average\u001b[0m \u001b[0;32mis\u001b[0m \u001b[0;32mnot\u001b[0m \u001b[0;32mNone\u001b[0m \u001b[0;32mor\u001b[0m \u001b[0mreduce\u001b[0m \u001b[0;32mis\u001b[0m \u001b[0;32mnot\u001b[0m \u001b[0;32mNone\u001b[0m\u001b[0;34m:\u001b[0m\u001b[0;34m\u001b[0m\u001b[0;34m\u001b[0m\u001b[0m\n\u001b[1;32m   3052\u001b[0m         \u001b[0mreduction\u001b[0m \u001b[0;34m=\u001b[0m \u001b[0m_Reduction\u001b[0m\u001b[0;34m.\u001b[0m\u001b[0mlegacy_get_string\u001b[0m\u001b[0;34m(\u001b[0m\u001b[0msize_average\u001b[0m\u001b[0;34m,\u001b[0m \u001b[0mreduce\u001b[0m\u001b[0;34m)\u001b[0m\u001b[0;34m\u001b[0m\u001b[0;34m\u001b[0m\u001b[0m\n\u001b[0;32m-> 3053\u001b[0;31m     \u001b[0;32mreturn\u001b[0m \u001b[0mtorch\u001b[0m\u001b[0;34m.\u001b[0m\u001b[0m_C\u001b[0m\u001b[0;34m.\u001b[0m\u001b[0m_nn\u001b[0m\u001b[0;34m.\u001b[0m\u001b[0mcross_entropy_loss\u001b[0m\u001b[0;34m(\u001b[0m\u001b[0minput\u001b[0m\u001b[0;34m,\u001b[0m \u001b[0mtarget\u001b[0m\u001b[0;34m,\u001b[0m \u001b[0mweight\u001b[0m\u001b[0;34m,\u001b[0m \u001b[0m_Reduction\u001b[0m\u001b[0;34m.\u001b[0m\u001b[0mget_enum\u001b[0m\u001b[0;34m(\u001b[0m\u001b[0mreduction\u001b[0m\u001b[0;34m)\u001b[0m\u001b[0;34m,\u001b[0m \u001b[0mignore_index\u001b[0m\u001b[0;34m,\u001b[0m \u001b[0mlabel_smoothing\u001b[0m\u001b[0;34m)\u001b[0m\u001b[0;34m\u001b[0m\u001b[0;34m\u001b[0m\u001b[0m\n\u001b[0m\u001b[1;32m   3054\u001b[0m \u001b[0;34m\u001b[0m\u001b[0m\n\u001b[1;32m   3055\u001b[0m \u001b[0;34m\u001b[0m\u001b[0m\n",
            "\u001b[0;31mTypeError\u001b[0m: cross_entropy_loss(): argument 'input' (position 1) must be Tensor, not Softmax"
          ]
        }
      ]
    },
    {
      "cell_type": "code",
      "source": [
        "loss"
      ],
      "metadata": {
        "colab": {
          "base_uri": "https://localhost:8080/"
        },
        "id": "kVtr1C85s_3A",
        "outputId": "4ccb7c20-0807-4f08-b0e5-9f8146d3606e"
      },
      "execution_count": null,
      "outputs": [
        {
          "output_type": "execute_result",
          "data": {
            "text/plain": [
              "tensor(3509.0122, grad_fn=<DivBackward1>)"
            ]
          },
          "metadata": {},
          "execution_count": 65
        }
      ]
    }
  ]
}